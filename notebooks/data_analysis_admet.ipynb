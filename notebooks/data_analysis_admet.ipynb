{
 "cells": [
  {
   "cell_type": "markdown",
   "id": "0e8a4e58",
   "metadata": {},
   "source": [
    "# Data Analysis for the ADMET scores project\n"
   ]
  },
  {
   "cell_type": "code",
   "execution_count": 89,
   "id": "58983487",
   "metadata": {},
   "outputs": [],
   "source": [
    "import numpy as np\n",
    "import pandas as pd\n",
    "import matplotlib.pyplot as plt\n",
    "import seaborn as sns\n",
    "from rdkit import Chem\n",
    "from rdkit.Chem import AllChem\n",
    "from rdkit.DataStructs import BulkTanimotoSimilarity\n"
   ]
  },
  {
   "cell_type": "code",
   "execution_count": 90,
   "id": "ae625ec9",
   "metadata": {},
   "outputs": [],
   "source": [
    "df_features = pd.read_csv('../dataset/X_train_UbsWnSC.csv')"
   ]
  },
  {
   "cell_type": "code",
   "execution_count": 91,
   "id": "f0c3b742",
   "metadata": {},
   "outputs": [
    {
     "data": {
      "application/vnd.microsoft.datawrangler.viewer.v0+json": {
       "columns": [
        {
         "name": "index",
         "rawType": "int64",
         "type": "integer"
        },
        {
         "name": "ID",
         "rawType": "int64",
         "type": "integer"
        },
        {
         "name": "SMILES",
         "rawType": "object",
         "type": "string"
        }
       ],
       "ref": "fe8095d0-3eb5-4bd8-8df2-1b2bd571bf44",
       "rows": [
        [
         "0",
         "0",
         "O=C(Nc1nncs1)c1cccnc1"
        ],
        [
         "1",
         "1",
         "COc1ccc(N2CCCN(CC3CCN(C(=O)C4CC4)CC3)CC2)cc1"
        ],
        [
         "2",
         "2",
         "Cc1[nH]nc(CCC(=O)NCCCOC2CCCC2)c1C"
        ],
        [
         "3",
         "3",
         "Cc1cc(C)n2ncc(C(=O)Nc3cccc(C(=O)O)c3)c2n1"
        ],
        [
         "4",
         "4",
         "CCn1ncnc1-c1[nH]cnc1-c1ccccc1"
        ]
       ],
       "shape": {
        "columns": 2,
        "rows": 5
       }
      },
      "text/html": [
       "<div>\n",
       "<style scoped>\n",
       "    .dataframe tbody tr th:only-of-type {\n",
       "        vertical-align: middle;\n",
       "    }\n",
       "\n",
       "    .dataframe tbody tr th {\n",
       "        vertical-align: top;\n",
       "    }\n",
       "\n",
       "    .dataframe thead th {\n",
       "        text-align: right;\n",
       "    }\n",
       "</style>\n",
       "<table border=\"1\" class=\"dataframe\">\n",
       "  <thead>\n",
       "    <tr style=\"text-align: right;\">\n",
       "      <th></th>\n",
       "      <th>ID</th>\n",
       "      <th>SMILES</th>\n",
       "    </tr>\n",
       "  </thead>\n",
       "  <tbody>\n",
       "    <tr>\n",
       "      <th>0</th>\n",
       "      <td>0</td>\n",
       "      <td>O=C(Nc1nncs1)c1cccnc1</td>\n",
       "    </tr>\n",
       "    <tr>\n",
       "      <th>1</th>\n",
       "      <td>1</td>\n",
       "      <td>COc1ccc(N2CCCN(CC3CCN(C(=O)C4CC4)CC3)CC2)cc1</td>\n",
       "    </tr>\n",
       "    <tr>\n",
       "      <th>2</th>\n",
       "      <td>2</td>\n",
       "      <td>Cc1[nH]nc(CCC(=O)NCCCOC2CCCC2)c1C</td>\n",
       "    </tr>\n",
       "    <tr>\n",
       "      <th>3</th>\n",
       "      <td>3</td>\n",
       "      <td>Cc1cc(C)n2ncc(C(=O)Nc3cccc(C(=O)O)c3)c2n1</td>\n",
       "    </tr>\n",
       "    <tr>\n",
       "      <th>4</th>\n",
       "      <td>4</td>\n",
       "      <td>CCn1ncnc1-c1[nH]cnc1-c1ccccc1</td>\n",
       "    </tr>\n",
       "  </tbody>\n",
       "</table>\n",
       "</div>"
      ],
      "text/plain": [
       "   ID                                        SMILES\n",
       "0   0                         O=C(Nc1nncs1)c1cccnc1\n",
       "1   1  COc1ccc(N2CCCN(CC3CCN(C(=O)C4CC4)CC3)CC2)cc1\n",
       "2   2             Cc1[nH]nc(CCC(=O)NCCCOC2CCCC2)c1C\n",
       "3   3     Cc1cc(C)n2ncc(C(=O)Nc3cccc(C(=O)O)c3)c2n1\n",
       "4   4                 CCn1ncnc1-c1[nH]cnc1-c1ccccc1"
      ]
     },
     "execution_count": 91,
     "metadata": {},
     "output_type": "execute_result"
    }
   ],
   "source": [
    "df_features.head()\n"
   ]
  },
  {
   "cell_type": "code",
   "execution_count": 92,
   "id": "34561956",
   "metadata": {},
   "outputs": [],
   "source": [
    "morgan_fps = []\n",
    "mols = []\n",
    "for smile in df_features['SMILES']:\n",
    "    mol = Chem.MolFromSmiles(smile)\n",
    "    fp_mor_gen = AllChem.GetMorganGenerator(radius=2)\n",
    "    fp_mor = fp_mor_gen.GetFingerprint(mol)\n",
    "    morgan_fps.append(fp_mor)"
   ]
  },
  {
   "cell_type": "code",
   "execution_count": 93,
   "id": "4af3d5b4",
   "metadata": {},
   "outputs": [],
   "source": [
    "tanimoto_sims = []\n",
    "\n",
    "for fp in morgan_fps:\n",
    "    tanimoto_sims.append(BulkTanimotoSimilarity(fp, morgan_fps))\n",
    "\n",
    "tanimoto_sims = np.array(tanimoto_sims)"
   ]
  },
  {
   "cell_type": "code",
   "execution_count": null,
   "id": "34a13137",
   "metadata": {},
   "outputs": [],
   "source": [
    "#sns.heatmap(np.log10(tanimoto_sims),cmap='viridis')\n",
    "f,ax = plt.subplots(figsize=(10,8))\n",
    "sns.heatmap(np.log10(tanimoto_sims),ax=ax, cbar_kws={'label': '$\\log(tanimoto)$'})\n",
    "ax.set_xlabel('Molecule indices')\n",
    "ax.set_ylabel('Molecule indices')\n",
    "ax.set_title('log(tanimoto) matrix')\n",
    "#f.savefig('tanimoto_nocluster.png',bbox_inches='tight')"
   ]
  },
  {
   "cell_type": "markdown",
   "id": "41d9909c",
   "metadata": {},
   "source": [
    "# Structural analysis of the tanimoto similarity matrix.\n",
    "\n",
    "I'd be very helpful if we could identify clusters in the features and the labels of our data. Why?\n",
    "- It is natural to think that some molecules are more similar than others chemically, and morgan fingerprints can capture this acceptably well.\n",
    "- Structurally similar molecules tend to have similar chemical properties, be it equilibrium contants or ADMET scores.\n",
    "- Therefore, if the Morgan fingerprints of the input can be clustered, and the labels can be clustered, we can analyze if similar molecules (as per Morgan FPs) have similar ADMET scores\n",
    "- If so, wee can train a cheap classifier first, and then train a separate tree model for each category. If the classifier is good, this can help simplify our problem a lot."
   ]
  },
  {
   "cell_type": "code",
   "execution_count": 95,
   "id": "b3392f4d",
   "metadata": {},
   "outputs": [],
   "source": [
    "from sklearn.cluster import AgglomerativeClustering"
   ]
  },
  {
   "cell_type": "code",
   "execution_count": 96,
   "id": "f3410641",
   "metadata": {},
   "outputs": [],
   "source": [
    "n_clusters = 200\n",
    "\n",
    "hier_cluster_gen = AgglomerativeClustering(n_clusters, metric='precomputed', linkage='average')\n",
    "dist_matrix = 1 - tanimoto_sims\n",
    "\n",
    "cluster_identities = hier_cluster_gen.fit_predict(dist_matrix)\n",
    "\n"
   ]
  },
  {
   "cell_type": "code",
   "execution_count": null,
   "id": "598e427b",
   "metadata": {},
   "outputs": [],
   "source": [
    "df_clusters = pd.DataFrame({'original_index':np.arange(len(cluster_identities)), 'cluster_label':cluster_identities})\n",
    "df_sorted = df_clusters.sort_values(by='cluster_label')\n",
    "reordered_idxs= df_sorted['original_index'].values\n",
    "reordered_tanimoto = tanimoto_sims[reordered_idxs, :] #Reorder the rows\n",
    "reordered_tanimoto = reordered_tanimoto[:, reordered_idxs]"
   ]
  },
  {
   "cell_type": "code",
   "execution_count": null,
   "id": "d5c3a7ed",
   "metadata": {},
   "outputs": [],
   "source": [
    "plt.figure(figsize=(10, 8))\n",
    "sns.heatmap(np.log10(reordered_tanimoto), cbar_kws={'label': 'Similitud Tanimoto'})\n",
    "plt.xlabel('Moléculas (Ordenadas por Cluster)', fontsize=12)\n",
    "plt.ylabel('Moléculas (Ordenadas por Cluster)', fontsize=12)\n",
    "plt.show()\n"
   ]
  },
  {
   "cell_type": "code",
   "execution_count": 112,
   "id": "bb0d2584",
   "metadata": {},
   "outputs": [],
   "source": [
    "# We use the silhouette method to look the optimum number of clusters in our molecule dataset. \n",
    "from sklearn.metrics import silhouette_score\n",
    "from scipy.cluster.hierarchy import linkage, fcluster\n",
    "from scipy.spatial.distance import squareform #A condensed, machine-efficient square matrix to profit from symmetry.\n",
    "\n",
    "efficient_distance = squareform(dist_matrix)\n",
    "clustering_tree = linkage(efficient_distance, metric='average') #Again, a faster way to compute the whole tree.\n",
    "k_range = range(2, 21)\n",
    "silhouette_scores = []\n",
    "for k in k_range:\n",
    "    cluster_labels = fcluster(clustering_tree, k, criterion='maxclust')\n",
    "    score = silhouette_score(dist_matrix, cluster_labels, metric='precomputed')\n",
    "    silhouette_scores.append(score)\n",
    "\n",
    "\n",
    "\n"
   ]
  },
  {
   "cell_type": "code",
   "execution_count": null,
   "id": "a7caa19b",
   "metadata": {},
   "outputs": [],
   "source": [
    "f, ax = plt.subplots(figsize=(10,8))\n",
    "ax.plot(silhouette_scores)\n",
    "ax.set_xlabel('Number of clusters', fontsize=13)\n",
    "ax.set_ylabel('Av. Silhouette score',fontsize=13)\n",
    "#f.savefig('silhouette_plot.png', bbox_inches='tight')"
   ]
  },
  {
   "cell_type": "code",
   "execution_count": null,
   "id": "da2ee9d4",
   "metadata": {},
   "outputs": [
    {
     "data": {
      "text/plain": [
       "range(2, 21)"
      ]
     },
     "execution_count": 115,
     "metadata": {},
     "output_type": "execute_result"
    }
   ],
   "source": []
  },
  {
   "cell_type": "code",
   "execution_count": null,
   "id": "df1925e6",
   "metadata": {},
   "outputs": [],
   "source": []
  }
 ],
 "metadata": {
  "kernelspec": {
   "display_name": "admet",
   "language": "python",
   "name": "python3"
  },
  "language_info": {
   "codemirror_mode": {
    "name": "ipython",
    "version": 3
   },
   "file_extension": ".py",
   "mimetype": "text/x-python",
   "name": "python",
   "nbconvert_exporter": "python",
   "pygments_lexer": "ipython3",
   "version": "3.11.13"
  }
 },
 "nbformat": 4,
 "nbformat_minor": 5
}
